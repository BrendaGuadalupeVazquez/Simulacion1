{
  "nbformat": 4,
  "nbformat_minor": 0,
  "metadata": {
    "colab": {
      "provenance": [],
      "authorship_tag": "ABX9TyPsRewZ//qwHJJwQBZ05LND",
      "include_colab_link": true
    },
    "kernelspec": {
      "name": "python3",
      "display_name": "Python 3"
    },
    "language_info": {
      "name": "python"
    }
  },
  "cells": [
    {
      "cell_type": "markdown",
      "metadata": {
        "id": "view-in-github",
        "colab_type": "text"
      },
      "source": [
        "<a href=\"https://colab.research.google.com/github/BrendaGuadalupeVazquez/Simulacion1/blob/main/Congruencia.ipynb\" target=\"_parent\"><img src=\"https://colab.research.google.com/assets/colab-badge.svg\" alt=\"Open In Colab\"/></a>"
      ]
    },
    {
      "cell_type": "code",
      "source": [
        "#x_n+1=a*x_n+c\n",
        "#x_0=semilla\n",
        "#(mod m)\n",
        "#0<x_n<m\n",
        "#x_i~U(0,1)"
      ],
      "metadata": {
        "id": "017b4y4QQ4Fb"
      },
      "execution_count": null,
      "outputs": []
    },
    {
      "cell_type": "code",
      "source": [
        "\n",
        "x0_0= int (input(\"Ingrese el valor de x_0: \"))\n",
        "x1_n= int (input(\"Ingrese el valo de x_n: \"))\n",
        "m=16\n",
        "a=5\n",
        "c=5\n",
        "n=3\n",
        "Lista=[]\n",
        "Lista.append(x0_0)\n",
        "for x in range(n):\n",
        "  x_n=a*x1_n+c\n",
        "\n",
        "  print(\"La variable es: \", x_n,n,x1_n/16)\n",
        "\n",
        "\n",
        "\n",
        "\n"
      ],
      "metadata": {
        "colab": {
          "base_uri": "https://localhost:8080/"
        },
        "id": "unMqPBWAQ4GT",
        "outputId": "def5afa3-e350-43ec-82f1-660642e6fb42"
      },
      "execution_count": 29,
      "outputs": [
        {
          "output_type": "stream",
          "name": "stdout",
          "text": [
            "Ingrese el valor de x_0: 6\n",
            "Ingrese el valo de x_n: 6\n",
            "La variable es:  35 3 0.375\n",
            "La variable es:  35 3 0.375\n",
            "La variable es:  35 3 0.375\n"
          ]
        }
      ]
    }
  ]
}