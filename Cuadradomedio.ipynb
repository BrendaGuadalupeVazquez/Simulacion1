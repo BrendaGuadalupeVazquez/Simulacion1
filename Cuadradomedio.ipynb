{
  "nbformat": 4,
  "nbformat_minor": 0,
  "metadata": {
    "colab": {
      "provenance": [],
      "authorship_tag": "ABX9TyPUjhC4i+izXtuRpuHhYqgw",
      "include_colab_link": true
    },
    "kernelspec": {
      "name": "python3",
      "display_name": "Python 3"
    },
    "language_info": {
      "name": "python"
    }
  },
  "cells": [
    {
      "cell_type": "markdown",
      "metadata": {
        "id": "view-in-github",
        "colab_type": "text"
      },
      "source": [
        "<a href=\"https://colab.research.google.com/github/BrendaGuadalupeVazquez/Simulacion1/blob/main/Cuadradomedio.ipynb\" target=\"_parent\"><img src=\"https://colab.research.google.com/assets/colab-badge.svg\" alt=\"Open In Colab\"/></a>"
      ]
    },
    {
      "cell_type": "code",
      "execution_count": 6,
      "metadata": {
        "id": "0bm7IZe2Zk9N",
        "outputId": "15f6816a-8e4b-488b-b9d0-ef65a2705345",
        "colab": {
          "base_uri": "https://localhost:8080/"
        }
      },
      "outputs": [
        {
          "output_type": "stream",
          "name": "stdout",
          "text": [
            "x_1= 5113\n",
            "x_2= 1427\n",
            "x_3= 363\n",
            "x_4= 3176\n"
          ]
        }
      ],
      "source": [
        "\n",
        "#Inicio dando un valor para dar sus números aleatorios\n",
        "x_0=2124;\n",
        "#Calculando el cuadrado\n",
        "n= (x_0)**2\n",
        "n_str = str(n).zfill(8)\n",
        "x_1 = int(n_str[2:6])\n",
        "print(\"x_1=\",x_1)\n",
        "#Elevando al cuadrado los nuevos dígitos\n",
        "n= (x_1)**2\n",
        "n_str= str(n).zfill(8)\n",
        "x_2=int(n_str[2:6])\n",
        "print(\"x_2=\",x_2)\n",
        "#Elevando al cuadrado los siguientes dígitos\n",
        "n=(x_2)**2\n",
        "n_str= str(n).zfill(8)\n",
        "x_3=int(n_str[2:6])\n",
        "print(\"x_3=\",x_3)\n",
        "#Elevando al cuadrado los siguientes dígitos\n",
        "n=(x_3)**2\n",
        "n_str= str(n).zfill(6)\n",
        "x_4=int(n_str[1:5])\n",
        "print(\"x_4=\",x_4)"
      ]
    }
  ]
}