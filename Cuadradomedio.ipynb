{
  "nbformat": 4,
  "nbformat_minor": 0,
  "metadata": {
    "colab": {
      "provenance": [],
      "authorship_tag": "ABX9TyMct7RZxeayYLy8tFKNKfC9",
      "include_colab_link": true
    },
    "kernelspec": {
      "name": "python3",
      "display_name": "Python 3"
    },
    "language_info": {
      "name": "python"
    }
  },
  "cells": [
    {
      "cell_type": "markdown",
      "metadata": {
        "id": "view-in-github",
        "colab_type": "text"
      },
      "source": [
        "<a href=\"https://colab.research.google.com/github/BrendaGuadalupeVazquez/Simulacion1/blob/main/Cuadradomedio.ipynb\" target=\"_parent\"><img src=\"https://colab.research.google.com/assets/colab-badge.svg\" alt=\"Open In Colab\"/></a>"
      ]
    },
    {
      "cell_type": "code",
      "execution_count": null,
      "metadata": {
        "id": "0bm7IZe2Zk9N"
      },
      "outputs": [],
      "source": [
        "x_0=2124;\n",
        "res = (x_0)**2\n",
        "res_str = str(res).zfill(8)\n",
        "x_1 = int(res_str[2:6])\n",
        "print(\"x1=\",x_1)\n",
        "\n",
        "res = (x_1)**2\n",
        "res_str= str(res).zfill(8)\n",
        "x_2=int(res_str[2:6])\n",
        "print(\"x2=\",x_2)\n",
        "\n",
        "res=(x_2)**2\n",
        "res_str= str(res).zfill(8)\n",
        "x_3=int(res_str[2:6])\n",
        "print(\"x3=\",x_3)\n",
        "\n",
        "res=(x_3)**2\n",
        "res_str= str(res).zfill(6)\n",
        "x_4=int(res_str[1:5])\n",
        "print(\"x4=\",x_4)\n",
        ""
      ]
    }
  ]
}