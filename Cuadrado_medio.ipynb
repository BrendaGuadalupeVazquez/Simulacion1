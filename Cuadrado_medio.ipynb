{
  "nbformat": 4,
  "nbformat_minor": 0,
  "metadata": {
    "colab": {
      "provenance": [],
      "authorship_tag": "ABX9TyPifHvxIrJB3lSI0mXDfuYe",
      "include_colab_link": true
    },
    "kernelspec": {
      "name": "python3",
      "display_name": "Python 3"
    },
    "language_info": {
      "name": "python"
    }
  },
  "cells": [
    {
      "cell_type": "markdown",
      "metadata": {
        "id": "view-in-github",
        "colab_type": "text"
      },
      "source": [
        "<a href=\"https://colab.research.google.com/github/BrendaGuadalupeVazquez/Simulacion1/blob/main/Cuadrado_medio.ipynb\" target=\"_parent\"><img src=\"https://colab.research.google.com/assets/colab-badge.svg\" alt=\"Open In Colab\"/></a>"
      ]
    },
    {
      "cell_type": "markdown",
      "source": [
        "Generador de cuadrado medio"
      ],
      "metadata": {
        "id": "SduU2E4IK3s_"
      }
    },
    {
      "cell_type": "code",
      "execution_count": 2,
      "metadata": {
        "colab": {
          "base_uri": "https://localhost:8080/"
        },
        "id": "43FjAwmYX0Rb",
        "outputId": "95448de9-3e13-4fe9-da1e-c0c0e0def417"
      },
      "outputs": [
        {
          "output_type": "stream",
          "name": "stdout",
          "text": [
            "       n    x_nx_n^2    x_n+1\n",
            "--  ----  ----------  -------\n",
            " 1  2124     4511376     5113\n",
            " 2  5113    26142769     1427\n",
            " 3  1427     2036329      363\n",
            " 4   363      131769     1317\n",
            " 5  1317     1734489     7344\n",
            " 6  7344    53934336     9343\n",
            " 7  9343    87291649     2916\n",
            " 8  2916     8503056     5030\n",
            " 9  5030    25300900     3009\n",
            "10  3009     9054081      540\n"
          ]
        }
      ],
      "source": [
        "from tabulate import tabulate\n",
        "\n",
        "x_n = 2124\n",
        "\n",
        "#Nombre para los encabezados\n",
        "table_headers = [\"n\",\"x_n\" \"x_n^2\", \"x_n+1\"]\n",
        "\n",
        "# Lista para almacenar las filas\n",
        "table_rows = []\n",
        "\n",
        "iteration = 1\n",
        "\n",
        "while True:\n",
        "    res = x_n ** 2\n",
        "    res_str = str(res).zfill(8)\n",
        "    x_o = int(res_str[2:6])\n",
        "    table_rows.append([iteration,x_n, res, x_o])\n",
        "\n",
        "    #Se actualizan valores\n",
        "    x_n = x_o\n",
        "\n",
        "    iteration += 1\n",
        "\n",
        "    #Hasta iteración 10\n",
        "    if iteration > 10:\n",
        "        break\n",
        "\n",
        "#Crear tabla\n",
        "print(tabulate(table_rows, headers=table_headers))"
      ]
    }
  ]
}