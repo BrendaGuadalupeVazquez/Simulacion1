{
  "nbformat": 4,
  "nbformat_minor": 0,
  "metadata": {
    "colab": {
      "provenance": [],
      "authorship_tag": "ABX9TyN33aS0Egms3ZxZd6fswcdW",
      "include_colab_link": true
    },
    "kernelspec": {
      "name": "python3",
      "display_name": "Python 3"
    },
    "language_info": {
      "name": "python"
    }
  },
  "cells": [
    {
      "cell_type": "markdown",
      "metadata": {
        "id": "view-in-github",
        "colab_type": "text"
      },
      "source": [
        "<a href=\"https://colab.research.google.com/github/BrendaGuadalupeVazquez/Simulacion1/blob/main/PruebaKS.ipynb\" target=\"_parent\"><img src=\"https://colab.research.google.com/assets/colab-badge.svg\" alt=\"Open In Colab\"/></a>"
      ]
    },
    {
      "cell_type": "markdown",
      "source": [
        "Prueba de Kolmogorov-Smirnov"
      ],
      "metadata": {
        "id": "j_zJCMribKQw"
      }
    },
    {
      "cell_type": "code",
      "source": [
        "Lista=[0.8797,0.9848,0.4557,0.9170,0.8376,0.3884,0.3469,0.1592,0.2204,0.6235,0.6289,0.7977,0.8536,0.5991,0.3681,0.8750,0.5844,0.8846,0.5461,0.2088,0.5999,0.8147,0.3410,0.5739,0.1525,0.8589,0.6431,0.1492,0.3254,0.2006,0.9996,0.7387,0.8681,0.0856,0.4720,0.2415,0.5613,0.5291,0.2258,0.4272,0.3808,0.0318,0.3188,0.4603,0.6360,0.9606,0.7401,0.5992,0.5027,0.0954]\n",
        "Lista.sort()\n",
        "print(Lista)\n",
        "def mayor(Lista):\n",
        "  max=Lista[0];\n",
        "  for x in Lista:\n",
        "    if x>max:\n",
        "      max=x\n",
        "  return max\n"
      ],
      "metadata": {
        "colab": {
          "base_uri": "https://localhost:8080/"
        },
        "id": "PYhqwvcnbQEW",
        "outputId": "e7b537d6-af9b-4cb2-e70a-9c7e11b710a7"
      },
      "execution_count": 13,
      "outputs": [
        {
          "output_type": "stream",
          "name": "stdout",
          "text": [
            "[0.0318, 0.0856, 0.0954, 0.1492, 0.1525, 0.1592, 0.2006, 0.2088, 0.2204, 0.2258, 0.2415, 0.3188, 0.3254, 0.341, 0.3469, 0.3681, 0.3808, 0.3884, 0.4272, 0.4557, 0.4603, 0.472, 0.5027, 0.5291, 0.5461, 0.5613, 0.5739, 0.5844, 0.5991, 0.5992, 0.5999, 0.6235, 0.6289, 0.636, 0.6431, 0.7387, 0.7401, 0.7977, 0.8147, 0.8376, 0.8536, 0.8589, 0.8681, 0.875, 0.8797, 0.8846, 0.917, 0.9606, 0.9848, 0.9996]\n"
          ]
        }
      ]
    },
    {
      "cell_type": "markdown",
      "source": [
        "Segundo Paso, Calcular D+,D- y D"
      ],
      "metadata": {
        "id": "07PIHbARdkxd"
      }
    },
    {
      "cell_type": "code",
      "source": [
        "\n"
      ],
      "metadata": {
        "id": "SziGFE3Kdtyt"
      },
      "execution_count": 9,
      "outputs": []
    }
  ]
}