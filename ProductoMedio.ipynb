{
  "nbformat": 4,
  "nbformat_minor": 0,
  "metadata": {
    "colab": {
      "provenance": [],
      "authorship_tag": "ABX9TyOsYEImDd6kSD2GdV7PcI6O",
      "include_colab_link": true
    },
    "kernelspec": {
      "name": "python3",
      "display_name": "Python 3"
    },
    "language_info": {
      "name": "python"
    }
  },
  "cells": [
    {
      "cell_type": "markdown",
      "metadata": {
        "id": "view-in-github",
        "colab_type": "text"
      },
      "source": [
        "<a href=\"https://colab.research.google.com/github/BrendaGuadalupeVazquez/Simulacion1/blob/main/ProductoMedio.ipynb\" target=\"_parent\"><img src=\"https://colab.research.google.com/assets/colab-badge.svg\" alt=\"Open In Colab\"/></a>"
      ]
    },
    {
      "cell_type": "code",
      "execution_count": null,
      "metadata": {
        "id": "BJhztKVQz_9o"
      },
      "outputs": [],
      "source": [
        "#p=3"
      ]
    },
    {
      "cell_type": "code",
      "source": [
        "x0_0= int (input(\"Ingrese un numero de 3 cifras: \"))\n",
        "x0_1= int (input(\"Ingrese otro numero de 3 cifras: \"))\n",
        "n=10\n",
        "Lista= []\n",
        "Lista.append(x0_0)\n",
        "Lista2=[]\n",
        "Lista2.append(x0_1)\n",
        "for x in range(n)"
      ],
      "metadata": {
        "id": "B0sAll_x0ZfS",
        "outputId": "7687e33d-5613-4412-90d0-5145bee41831",
        "colab": {
          "base_uri": "https://localhost:8080/"
        }
      },
      "execution_count": 6,
      "outputs": [
        {
          "name": "stdout",
          "output_type": "stream",
          "text": [
            "Ingrese un numero de 3 cifras123\n",
            "Ingrese otro numero de 3 cifras456\n"
          ]
        }
      ]
    }
  ]
}