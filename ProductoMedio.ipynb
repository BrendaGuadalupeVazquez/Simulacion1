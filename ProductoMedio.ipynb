{
  "nbformat": 4,
  "nbformat_minor": 0,
  "metadata": {
    "colab": {
      "provenance": [],
      "authorship_tag": "ABX9TyPQ+C3FLnoJwwhCZHLrnkMh",
      "include_colab_link": true
    },
    "kernelspec": {
      "name": "python3",
      "display_name": "Python 3"
    },
    "language_info": {
      "name": "python"
    }
  },
  "cells": [
    {
      "cell_type": "markdown",
      "metadata": {
        "id": "view-in-github",
        "colab_type": "text"
      },
      "source": [
        "<a href=\"https://colab.research.google.com/github/BrendaGuadalupeVazquez/Simulacion1/blob/main/ProductoMedio.ipynb\" target=\"_parent\"><img src=\"https://colab.research.google.com/assets/colab-badge.svg\" alt=\"Open In Colab\"/></a>"
      ]
    },
    {
      "cell_type": "code",
      "execution_count": null,
      "metadata": {
        "id": "BJhztKVQz_9o"
      },
      "outputs": [],
      "source": [
        "#p=4"
      ]
    },
    {
      "cell_type": "code",
      "source": [],
      "metadata": {
        "id": "B0sAll_x0ZfS"
      },
      "execution_count": null,
      "outputs": []
    }
  ]
}