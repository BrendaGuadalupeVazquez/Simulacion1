{
  "nbformat": 4,
  "nbformat_minor": 0,
  "metadata": {
    "colab": {
      "provenance": [],
      "authorship_tag": "ABX9TyN7muxVKcm1DjBAKf+m4qlX",
      "include_colab_link": true
    },
    "kernelspec": {
      "name": "python3",
      "display_name": "Python 3"
    },
    "language_info": {
      "name": "python"
    }
  },
  "cells": [
    {
      "cell_type": "markdown",
      "metadata": {
        "id": "view-in-github",
        "colab_type": "text"
      },
      "source": [
        "<a href=\"https://colab.research.google.com/github/BrendaGuadalupeVazquez/Simulacion1/blob/main/Untitled1.ipynb\" target=\"_parent\"><img src=\"https://colab.research.google.com/assets/colab-badge.svg\" alt=\"Open In Colab\"/></a>"
      ]
    },
    {
      "cell_type": "code",
      "source": [
        "#x_n+1=a*x_n+c\n",
        "#x_0=semilla\n",
        "#(mod m)\n",
        "#0<x_n<m\n",
        "#x_i~U(0,1)"
      ],
      "metadata": {
        "id": "017b4y4QQ4Fb"
      },
      "execution_count": null,
      "outputs": []
    },
    {
      "cell_type": "code",
      "source": [
        "\n",
        "x0_0= int (input(\"Ingrese el valor de x_0: \"))\n",
        "x1_n= int (input(\"Ingrese el valo de x_n\"))\n",
        "m=16\n",
        "a=5\n",
        "c=5\n",
        "n=3\n",
        "Lista=[]\n",
        "Lista.append(x0_0)\n",
        "\n"
      ],
      "metadata": {
        "id": "unMqPBWAQ4GT"
      },
      "execution_count": null,
      "outputs": []
    }
  ]
}
