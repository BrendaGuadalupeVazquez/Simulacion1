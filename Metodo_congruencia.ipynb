{
  "nbformat": 4,
  "nbformat_minor": 0,
  "metadata": {
    "colab": {
      "provenance": [],
      "authorship_tag": "ABX9TyOMuIqHXJ7M0cC1lqo4gJaa",
      "include_colab_link": true
    },
    "kernelspec": {
      "name": "python3",
      "display_name": "Python 3"
    },
    "language_info": {
      "name": "python"
    }
  },
  "cells": [
    {
      "cell_type": "markdown",
      "metadata": {
        "id": "view-in-github",
        "colab_type": "text"
      },
      "source": [
        "<a href=\"https://colab.research.google.com/github/BrendaGuadalupeVazquez/Simulacion1/blob/main/Metodo_congruencia.ipynb\" target=\"_parent\"><img src=\"https://colab.research.google.com/assets/colab-badge.svg\" alt=\"Open In Colab\"/></a>"
      ]
    },
    {
      "cell_type": "code",
      "execution_count": 1,
      "metadata": {
        "colab": {
          "base_uri": "https://localhost:8080/"
        },
        "id": "XsPFMBSYY_Hs",
        "outputId": "3fa67e6d-2a35-44f5-f616-080dc3460577"
      },
      "outputs": [
        {
          "output_type": "stream",
          "name": "stdout",
          "text": [
            "x_1: 35 mod: 3 x_1/16= 2.1875\n",
            "x_2: 35 mod: 4 x_2/16= 11.25\n"
          ]
        }
      ],
      "source": [
        "x_0=6;\n",
        "m=16;\n",
        "a=5;\n",
        "c=5;\n",
        "\n",
        "x_1=a*x_0+c;\n",
        "coc_1=x_1/m;\n",
        "mod_1=x_1%m;\n",
        "\n",
        "x_2=a*x_1+c;\n",
        "coc_2=x_2/m;\n",
        "mod_2=x_2%m;\n",
        "\n",
        "print(\"x_1:\",x_1, \"mod:\", mod_1, \"x_1/16=\", coc_1)\n",
        "print(\"x_2:\",x_1, \"mod:\", mod_2, \"x_2/16=\", coc_2)\n",
        "\n",
        ""
      ]
    },
    {
      "cell_type": "code",
      "source": [
        "from tabulate import tabulate\n",
        "\n",
        "x_n=6;\n",
        "m=16;\n",
        "a=5;\n",
        "c=5;\n",
        "\n",
        "# Encabezados de la tabla\n",
        "table_headers = [\"N\",\"x_n\",\"5x_n+5\",\"5x_n+5 (mod 16)\", \"x_n/16\"]\n",
        "\n",
        "# Vector vacío para almacenar los resultados\n",
        "table_rows = []\n",
        "\n",
        "#Empieza en la iteración 1\n",
        "iteration = 0\n",
        "\n",
        "while True:\n",
        "  b=5*x_n+5;\n",
        "  x_0=b%m;\n",
        "  f=x_n/16;\n",
        "  table_rows.append([iteration,x_n,b,x_0,f])\n",
        "\n",
        "# Actualiza el valor de x_n para la siguiente iteración\n",
        "  x_n=x_0\n",
        "\n",
        "  iteration += 1\n",
        "\n",
        "# Límite de iteraciones\n",
        "  if iteration > 10:\n",
        "    break\n",
        "\n",
        "# Imprime la tabla\n",
        "print(tabulate(table_rows, headers=table_headers, tablefmt=\"grid\"))\n",
        ""
      ],
      "metadata": {
        "colab": {
          "base_uri": "https://localhost:8080/"
        },
        "id": "veHW4WanZWN3",
        "outputId": "72bf0cdd-af45-4d0d-fc08-78d8d17559f6"
      },
      "execution_count": 2,
      "outputs": [
        {
          "output_type": "stream",
          "name": "stdout",
          "text": [
            "+-----+-------+----------+-------------------+----------+\n",
            "|   N |   x_n |   5x_n+5 |   5x_n+5 (mod 16) |   x_n/16 |\n",
            "+=====+=======+==========+===================+==========+\n",
            "|   0 |     6 |       35 |                 3 |   0.375  |\n",
            "+-----+-------+----------+-------------------+----------+\n",
            "|   1 |     3 |       20 |                 4 |   0.1875 |\n",
            "+-----+-------+----------+-------------------+----------+\n",
            "|   2 |     4 |       25 |                 9 |   0.25   |\n",
            "+-----+-------+----------+-------------------+----------+\n",
            "|   3 |     9 |       50 |                 2 |   0.5625 |\n",
            "+-----+-------+----------+-------------------+----------+\n",
            "|   4 |     2 |       15 |                15 |   0.125  |\n",
            "+-----+-------+----------+-------------------+----------+\n",
            "|   5 |    15 |       80 |                 0 |   0.9375 |\n",
            "+-----+-------+----------+-------------------+----------+\n",
            "|   6 |     0 |        5 |                 5 |   0      |\n",
            "+-----+-------+----------+-------------------+----------+\n",
            "|   7 |     5 |       30 |                14 |   0.3125 |\n",
            "+-----+-------+----------+-------------------+----------+\n",
            "|   8 |    14 |       75 |                11 |   0.875  |\n",
            "+-----+-------+----------+-------------------+----------+\n",
            "|   9 |    11 |       60 |                12 |   0.6875 |\n",
            "+-----+-------+----------+-------------------+----------+\n",
            "|  10 |    12 |       65 |                 1 |   0.75   |\n",
            "+-----+-------+----------+-------------------+----------+\n"
          ]
        }
      ]
    }
  ]
}